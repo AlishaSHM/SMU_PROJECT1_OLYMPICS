{
 "cells": [
  {
   "cell_type": "markdown",
   "metadata": {},
   "source": [
    "## Observations and Insights "
   ]
  },
  {
   "cell_type": "code",
   "execution_count": 143,
   "metadata": {},
   "outputs": [
    {
     "name": "stdout",
     "output_type": "stream",
     "text": [
      "Populating the interactive namespace from numpy and matplotlib\n"
     ]
    }
   ],
   "source": [
    "# Dependencies and Setup\n",
    "import matplotlib.pyplot as plt\n",
    "import tkinter\n",
    "%pylab inline\n",
    "import pandas as pd\n",
    "from itertools import cycle, islice\n",
    "from functools import reduce\n",
    "from scipy.stats import linregress\n",
    "import scipy.stats as st\n",
    "import numpy as np\n",
    "pd.options.mode.chained_assignment = None \n",
    "\n",
    "# Study data files\n",
    "#athlete_events_path = \"data_set/athlete_events.csv\"\n",
    "olympic_medals_path = \"data_set/olympic_medals_clean.csv\"\n",
    "Countrys_GDP_path = \"data_set/Country_wise_GDP_from_1994_to_2017.csv\"\n",
    "\n",
    "# Read the olympics data and the study results\n",
    "medals_Year = []\n",
    "#athlete_events = pd.read_csv(athlete_events_path)\n",
    "olympic_medals = pd.read_csv(olympic_medals_path)\n",
    "Countrys_GDP = pd.read_csv(Countrys_GDP_path)\n",
    "medals_Year = olympic_medals['slug_game'].str[-4:]\n",
    "olympic_medals['medals_Year'] = medals_Year.astype('int64')\n",
    "# Concatinate athletes name in olympic medals file to come up with full name that can be used to merge with athlete_events file \n"
   ]
  },
  {
   "cell_type": "code",
   "execution_count": 144,
   "metadata": {},
   "outputs": [],
   "source": [
    "diff_cols = Countrys_GDP.columns.difference(olympic_medals.columns)"
   ]
  },
  {
   "cell_type": "code",
   "execution_count": 145,
   "metadata": {},
   "outputs": [
    {
     "data": {
      "text/plain": [
       "Index(['Country', 'GDP (in USD)', 'GDP Real (in USD)', 'GDP change (%)',\n",
       "       'GDP per capita (in USD)', 'Pop. change (%)', 'Population', 'Year'],\n",
       "      dtype='object')"
      ]
     },
     "execution_count": 145,
     "metadata": {},
     "output_type": "execute_result"
    }
   ],
   "source": [
    "diff_cols"
   ]
  },
  {
   "cell_type": "code",
   "execution_count": 146,
   "metadata": {},
   "outputs": [],
   "source": [
    "#Filter out the columns that are different. You could pass in the df2[diff_cols] directly into the merge as well.\n",
    "Diff_GDP_columns = Countrys_GDP[diff_cols]\n",
    "\n",
    "olympic_medals['Medal_Won'] = np.where(olympic_medals.loc[:,'medal_type']== 'na',0, 1)\n",
    "\n",
    "#Merge the DataFrames\n",
    "df_merged = pd.merge(olympic_medals, Diff_GDP_columns, right_on=['Country','Year'],left_on=['country_name','medals_Year'], how='inner')"
   ]
  },
  {
   "cell_type": "code",
   "execution_count": 147,
   "metadata": {},
   "outputs": [
    {
     "data": {
      "text/html": [
       "<div>\n",
       "<style scoped>\n",
       "    .dataframe tbody tr th:only-of-type {\n",
       "        vertical-align: middle;\n",
       "    }\n",
       "\n",
       "    .dataframe tbody tr th {\n",
       "        vertical-align: top;\n",
       "    }\n",
       "\n",
       "    .dataframe thead th {\n",
       "        text-align: right;\n",
       "    }\n",
       "</style>\n",
       "<table border=\"1\" class=\"dataframe\">\n",
       "  <thead>\n",
       "    <tr style=\"text-align: right;\">\n",
       "      <th></th>\n",
       "      <th>medals_Year</th>\n",
       "      <th>country_name</th>\n",
       "      <th>Medal_Won</th>\n",
       "    </tr>\n",
       "  </thead>\n",
       "  <tbody>\n",
       "    <tr>\n",
       "      <th>0</th>\n",
       "      <td>1896</td>\n",
       "      <td>Australia</td>\n",
       "      <td>2</td>\n",
       "    </tr>\n",
       "    <tr>\n",
       "      <th>1</th>\n",
       "      <td>1896</td>\n",
       "      <td>Austria</td>\n",
       "      <td>5</td>\n",
       "    </tr>\n",
       "    <tr>\n",
       "      <th>2</th>\n",
       "      <td>1896</td>\n",
       "      <td>Denmark</td>\n",
       "      <td>6</td>\n",
       "    </tr>\n",
       "    <tr>\n",
       "      <th>3</th>\n",
       "      <td>1896</td>\n",
       "      <td>France</td>\n",
       "      <td>11</td>\n",
       "    </tr>\n",
       "    <tr>\n",
       "      <th>4</th>\n",
       "      <td>1896</td>\n",
       "      <td>Germany</td>\n",
       "      <td>13</td>\n",
       "    </tr>\n",
       "    <tr>\n",
       "      <th>...</th>\n",
       "      <td>...</td>\n",
       "      <td>...</td>\n",
       "      <td>...</td>\n",
       "    </tr>\n",
       "    <tr>\n",
       "      <th>1425</th>\n",
       "      <td>2018</td>\n",
       "      <td>Spain</td>\n",
       "      <td>2</td>\n",
       "    </tr>\n",
       "    <tr>\n",
       "      <th>1426</th>\n",
       "      <td>2018</td>\n",
       "      <td>Sweden</td>\n",
       "      <td>15</td>\n",
       "    </tr>\n",
       "    <tr>\n",
       "      <th>1427</th>\n",
       "      <td>2018</td>\n",
       "      <td>Switzerland</td>\n",
       "      <td>16</td>\n",
       "    </tr>\n",
       "    <tr>\n",
       "      <th>1428</th>\n",
       "      <td>2018</td>\n",
       "      <td>Ukraine</td>\n",
       "      <td>1</td>\n",
       "    </tr>\n",
       "    <tr>\n",
       "      <th>1429</th>\n",
       "      <td>2018</td>\n",
       "      <td>United States of America</td>\n",
       "      <td>26</td>\n",
       "    </tr>\n",
       "  </tbody>\n",
       "</table>\n",
       "<p>1430 rows × 3 columns</p>\n",
       "</div>"
      ],
      "text/plain": [
       "      medals_Year              country_name  Medal_Won\n",
       "0            1896                 Australia          2\n",
       "1            1896                   Austria          5\n",
       "2            1896                   Denmark          6\n",
       "3            1896                    France         11\n",
       "4            1896                   Germany         13\n",
       "...           ...                       ...        ...\n",
       "1425         2018                     Spain          2\n",
       "1426         2018                    Sweden         15\n",
       "1427         2018               Switzerland         16\n",
       "1428         2018                   Ukraine          1\n",
       "1429         2018  United States of America         26\n",
       "\n",
       "[1430 rows x 3 columns]"
      ]
     },
     "execution_count": 147,
     "metadata": {},
     "output_type": "execute_result"
    }
   ],
   "source": [
    "country_medal_tally = olympic_medals.groupby(['medals_Year','country_name'])['Medal_Won'].agg('sum').reset_index()\n",
    "country_medal_tally"
   ]
  },
  {
   "cell_type": "code",
   "execution_count": 148,
   "metadata": {},
   "outputs": [],
   "source": [
    "Summer_olympics  = country_medal_tally.loc[country_medal_tally['medals_Year'].isin([1996,2000,2004,2008,2012,2016])]\n",
    "\n",
    "Summer_olympics['medals_Year']=Summer_olympics['medals_Year'].astype(str)"
   ]
  },
  {
   "cell_type": "code",
   "execution_count": 149,
   "metadata": {},
   "outputs": [
    {
     "data": {
      "text/html": [
       "<div>\n",
       "<style scoped>\n",
       "    .dataframe tbody tr th:only-of-type {\n",
       "        vertical-align: middle;\n",
       "    }\n",
       "\n",
       "    .dataframe tbody tr th {\n",
       "        vertical-align: top;\n",
       "    }\n",
       "\n",
       "    .dataframe thead th {\n",
       "        text-align: right;\n",
       "    }\n",
       "</style>\n",
       "<table border=\"1\" class=\"dataframe\">\n",
       "  <thead>\n",
       "    <tr style=\"text-align: right;\">\n",
       "      <th>country_name</th>\n",
       "      <th>United States of America</th>\n",
       "      <th>Germany</th>\n",
       "      <th>People's Republic of China</th>\n",
       "      <th>Russia</th>\n",
       "      <th>Australia</th>\n",
       "    </tr>\n",
       "    <tr>\n",
       "      <th>medals_Year</th>\n",
       "      <th></th>\n",
       "      <th></th>\n",
       "      <th></th>\n",
       "      <th></th>\n",
       "      <th></th>\n",
       "    </tr>\n",
       "  </thead>\n",
       "  <tbody>\n",
       "    <tr>\n",
       "      <th>1996</th>\n",
       "      <td>106.0</td>\n",
       "      <td>71.0</td>\n",
       "      <td>59.0</td>\n",
       "      <td>63.0</td>\n",
       "      <td>51.0</td>\n",
       "    </tr>\n",
       "    <tr>\n",
       "      <th>2000</th>\n",
       "      <td>102.0</td>\n",
       "      <td>64.0</td>\n",
       "      <td>75.0</td>\n",
       "      <td>93.0</td>\n",
       "      <td>69.0</td>\n",
       "    </tr>\n",
       "    <tr>\n",
       "      <th>2004</th>\n",
       "      <td>106.0</td>\n",
       "      <td>57.0</td>\n",
       "      <td>79.0</td>\n",
       "      <td>95.0</td>\n",
       "      <td>56.0</td>\n",
       "    </tr>\n",
       "    <tr>\n",
       "      <th>2008</th>\n",
       "      <td>116.0</td>\n",
       "      <td>49.0</td>\n",
       "      <td>117.0</td>\n",
       "      <td>67.0</td>\n",
       "      <td>52.0</td>\n",
       "    </tr>\n",
       "    <tr>\n",
       "      <th>2012</th>\n",
       "      <td>112.0</td>\n",
       "      <td>49.0</td>\n",
       "      <td>104.0</td>\n",
       "      <td>73.0</td>\n",
       "      <td>40.0</td>\n",
       "    </tr>\n",
       "    <tr>\n",
       "      <th>2016</th>\n",
       "      <td>127.0</td>\n",
       "      <td>48.0</td>\n",
       "      <td>82.0</td>\n",
       "      <td>59.0</td>\n",
       "      <td>34.0</td>\n",
       "    </tr>\n",
       "  </tbody>\n",
       "</table>\n",
       "</div>"
      ],
      "text/plain": [
       "country_name  United States of America  Germany  People's Republic of China  \\\n",
       "medals_Year                                                                   \n",
       "1996                             106.0     71.0                        59.0   \n",
       "2000                             102.0     64.0                        75.0   \n",
       "2004                             106.0     57.0                        79.0   \n",
       "2008                             116.0     49.0                       117.0   \n",
       "2012                             112.0     49.0                       104.0   \n",
       "2016                             127.0     48.0                        82.0   \n",
       "\n",
       "country_name  Russia  Australia  \n",
       "medals_Year                      \n",
       "1996            63.0       51.0  \n",
       "2000            93.0       69.0  \n",
       "2004            95.0       56.0  \n",
       "2008            67.0       52.0  \n",
       "2012            73.0       40.0  \n",
       "2016            59.0       34.0  "
      ]
     },
     "execution_count": 149,
     "metadata": {},
     "output_type": "execute_result"
    }
   ],
   "source": [
    "# List of top countries\n",
    "top_countries =  ['United States of America', 'Germany', \"People's Republic of China\", 'Russia','Australia']\n",
    "\n",
    "Summer_year_country_medals = pd.pivot_table(Summer_olympics,\n",
    "                                  index = 'medals_Year',\n",
    "                                  columns = 'country_name',\n",
    "                                  values = 'Medal_Won') [top_countries]\n",
    "Summer_year_country_medals"
   ]
  },
  {
   "cell_type": "code",
   "execution_count": 150,
   "metadata": {},
   "outputs": [
    {
     "data": {
      "text/plain": [
       "Text(0.5, 1.0, 'Summer Olympic Performance Comparison')"
      ]
     },
     "execution_count": 150,
     "metadata": {},
     "output_type": "execute_result"
    },
    {
     "data": {
      "image/png": "[encoded data removed]",
      "text/plain": [
       "<Figure size 1080x576 with 1 Axes>"
      ]
     },
     "metadata": {
      "needs_background": "light"
     },
     "output_type": "display_data"
    }
   ],
   "source": [
    "#plotting the medal tallies\n",
    "\n",
    "Summer_year_country_medals.plot(linestyle = '-', marker = 'o', alpha = 0.9, figsize = (15,8), linewidth = 2)\n",
    "\n",
    "xlabel('Olympic Year')\n",
    "ylabel('Number of Medals')\n",
    "title('Summer Olympic Performance Comparison')"
   ]
  },
  {
   "cell_type": "code",
   "execution_count": 151,
   "metadata": {},
   "outputs": [],
   "source": [
    "Winter_olympics  = olympic_medals.loc[olympic_medals['medals_Year'].isin([1998,2002,2006,2010,2014,2018])]\n",
    "\n",
    "Winter_olympics['medals_Year']=Winter_olympics['medals_Year'].astype(str)"
   ]
  },
  {
   "cell_type": "code",
   "execution_count": 152,
   "metadata": {},
   "outputs": [
    {
     "data": {
      "text/html": [
       "<div>\n",
       "<style scoped>\n",
       "    .dataframe tbody tr th:only-of-type {\n",
       "        vertical-align: middle;\n",
       "    }\n",
       "\n",
       "    .dataframe tbody tr th {\n",
       "        vertical-align: top;\n",
       "    }\n",
       "\n",
       "    .dataframe thead th {\n",
       "        text-align: right;\n",
       "    }\n",
       "</style>\n",
       "<table border=\"1\" class=\"dataframe\">\n",
       "  <thead>\n",
       "    <tr style=\"text-align: right;\">\n",
       "      <th>country_name</th>\n",
       "      <th>United States of America</th>\n",
       "      <th>Germany</th>\n",
       "      <th>People's Republic of China</th>\n",
       "      <th>Russia</th>\n",
       "      <th>Australia</th>\n",
       "    </tr>\n",
       "    <tr>\n",
       "      <th>medals_Year</th>\n",
       "      <th></th>\n",
       "      <th></th>\n",
       "      <th></th>\n",
       "      <th></th>\n",
       "      <th></th>\n",
       "    </tr>\n",
       "  </thead>\n",
       "  <tbody>\n",
       "    <tr>\n",
       "      <th>1998</th>\n",
       "      <td>15.0</td>\n",
       "      <td>32.0</td>\n",
       "      <td>8.0</td>\n",
       "      <td>22.0</td>\n",
       "      <td>1.0</td>\n",
       "    </tr>\n",
       "    <tr>\n",
       "      <th>2002</th>\n",
       "      <td>37.0</td>\n",
       "      <td>40.0</td>\n",
       "      <td>9.0</td>\n",
       "      <td>15.0</td>\n",
       "      <td>2.0</td>\n",
       "    </tr>\n",
       "    <tr>\n",
       "      <th>2006</th>\n",
       "      <td>27.0</td>\n",
       "      <td>32.0</td>\n",
       "      <td>13.0</td>\n",
       "      <td>25.0</td>\n",
       "      <td>2.0</td>\n",
       "    </tr>\n",
       "    <tr>\n",
       "      <th>2010</th>\n",
       "      <td>39.0</td>\n",
       "      <td>36.0</td>\n",
       "      <td>13.0</td>\n",
       "      <td>19.0</td>\n",
       "      <td>3.0</td>\n",
       "    </tr>\n",
       "    <tr>\n",
       "      <th>2014</th>\n",
       "      <td>32.0</td>\n",
       "      <td>21.0</td>\n",
       "      <td>9.0</td>\n",
       "      <td>33.0</td>\n",
       "      <td>3.0</td>\n",
       "    </tr>\n",
       "    <tr>\n",
       "      <th>2018</th>\n",
       "      <td>26.0</td>\n",
       "      <td>36.0</td>\n",
       "      <td>10.0</td>\n",
       "      <td>18.0</td>\n",
       "      <td>3.0</td>\n",
       "    </tr>\n",
       "  </tbody>\n",
       "</table>\n",
       "</div>"
      ],
      "text/plain": [
       "country_name  United States of America  Germany  People's Republic of China  \\\n",
       "medals_Year                                                                   \n",
       "1998                              15.0     32.0                         8.0   \n",
       "2002                              37.0     40.0                         9.0   \n",
       "2006                              27.0     32.0                        13.0   \n",
       "2010                              39.0     36.0                        13.0   \n",
       "2014                              32.0     21.0                         9.0   \n",
       "2018                              26.0     36.0                        10.0   \n",
       "\n",
       "country_name  Russia  Australia  \n",
       "medals_Year                      \n",
       "1998            22.0        1.0  \n",
       "2002            15.0        2.0  \n",
       "2006            25.0        2.0  \n",
       "2010            19.0        3.0  \n",
       "2014            33.0        3.0  \n",
       "2018            18.0        3.0  "
      ]
     },
     "execution_count": 152,
     "metadata": {},
     "output_type": "execute_result"
    }
   ],
   "source": [
    "# List of top countries\n",
    "top_countries = ['United States of America', 'Germany', \"People's Republic of China\", 'Russia','Australia']\n",
    "\n",
    "Winter_year_country_medals = pd.pivot_table(Winter_olympics,\n",
    "                                  index = 'medals_Year',\n",
    "                                  columns = ['country_name'],\n",
    "                                  values = 'Medal_Won',\n",
    "                                  aggfunc = 'sum')[top_countries]\n",
    "\n",
    "Winter_year_country_medals"
   ]
  },
  {
   "cell_type": "code",
   "execution_count": 153,
   "metadata": {},
   "outputs": [
    {
     "data": {
      "text/plain": [
       "Text(0.5, 1.0, 'Winter Olympic Performance Comparison')"
      ]
     },
     "execution_count": 153,
     "metadata": {},
     "output_type": "execute_result"
    },
    {
     "data": {
      "image/png": "[encoded data removed]",
      "text/plain": [
       "<Figure size 1080x576 with 1 Axes>"
      ]
     },
     "metadata": {
      "needs_background": "light"
     },
     "output_type": "display_data"
    }
   ],
   "source": [
    "# plotting the medal tallies\n",
    "\n",
    "Winter_year_country_medals.plot(linestyle = '-', marker = 'o', alpha = 0.9,figsize = (15,8),  linewidth = 2)\n",
    "\n",
    "xlabel('Olympic Year')\n",
    "ylabel('Number of Medals')\n",
    "title('Winter Olympic Performance Comparison')"
   ]
  },
  {
   "cell_type": "code",
   "execution_count": 154,
   "metadata": {},
   "outputs": [],
   "source": [
    "identify_team_events = olympic_medals.loc[olympic_medals['participant_type'] == 'GameTeam']\n",
    "\n",
    "team_sports = identify_team_events['discipline_title'].unique()"
   ]
  },
  {
   "cell_type": "code",
   "execution_count": 166,
   "metadata": {},
   "outputs": [
    {
     "data": {
      "text/html": [
       "<div>\n",
       "<style scoped>\n",
       "    .dataframe tbody tr th:only-of-type {\n",
       "        vertical-align: middle;\n",
       "    }\n",
       "\n",
       "    .dataframe tbody tr th {\n",
       "        vertical-align: top;\n",
       "    }\n",
       "\n",
       "    .dataframe thead th {\n",
       "        text-align: right;\n",
       "    }\n",
       "</style>\n",
       "<table border=\"1\" class=\"dataframe\">\n",
       "  <thead>\n",
       "    <tr style=\"text-align: right;\">\n",
       "      <th></th>\n",
       "      <th>country_name</th>\n",
       "      <th>Medal_Won</th>\n",
       "    </tr>\n",
       "  </thead>\n",
       "  <tbody>\n",
       "    <tr>\n",
       "      <th>23</th>\n",
       "      <td>Germany</td>\n",
       "      <td>729</td>\n",
       "    </tr>\n",
       "    <tr>\n",
       "      <th>71</th>\n",
       "      <td>United States of America</td>\n",
       "      <td>706</td>\n",
       "    </tr>\n",
       "    <tr>\n",
       "      <th>57</th>\n",
       "      <td>Russia</td>\n",
       "      <td>517</td>\n",
       "    </tr>\n",
       "    <tr>\n",
       "      <th>25</th>\n",
       "      <td>Great Britain</td>\n",
       "      <td>401</td>\n",
       "    </tr>\n",
       "    <tr>\n",
       "      <th>22</th>\n",
       "      <td>France</td>\n",
       "      <td>318</td>\n",
       "    </tr>\n",
       "  </tbody>\n",
       "</table>\n",
       "</div>"
      ],
      "text/plain": [
       "                country_name  Medal_Won\n",
       "23                   Germany        729\n",
       "71  United States of America        706\n",
       "57                    Russia        517\n",
       "25             Great Britain        401\n",
       "22                    France        318"
      ]
     },
     "execution_count": 166,
     "metadata": {},
     "output_type": "execute_result"
    }
   ],
   "source": [
    "identify_team_events_agg = identify_team_events.\\\n",
    "groupby(['country_name'])[['Medal_Won']].\\\n",
    "agg('sum').reset_index()\n",
    "\n",
    "identify_team_events_agg_sorted = identify_team_events_agg.sort_values(by='Medal_Won', ascending=False)\n",
    "\n",
    "identify_team_events_agg_sorted.head(5)"
   ]
  },
  {
   "cell_type": "code",
   "execution_count": 167,
   "metadata": {},
   "outputs": [],
   "source": [
    "identify_individual_events = olympic_medals.loc[olympic_medals['participant_type'] == 'Athlete']\n",
    "\n",
    "individual_sports = identify_team_events['discipline_title'].unique()"
   ]
  },
  {
   "cell_type": "code",
   "execution_count": 171,
   "metadata": {},
   "outputs": [
    {
     "data": {
      "text/html": [
       "<div>\n",
       "<style scoped>\n",
       "    .dataframe tbody tr th:only-of-type {\n",
       "        vertical-align: middle;\n",
       "    }\n",
       "\n",
       "    .dataframe tbody tr th {\n",
       "        vertical-align: top;\n",
       "    }\n",
       "\n",
       "    .dataframe thead th {\n",
       "        text-align: right;\n",
       "    }\n",
       "</style>\n",
       "<table border=\"1\" class=\"dataframe\">\n",
       "  <thead>\n",
       "    <tr style=\"text-align: right;\">\n",
       "      <th></th>\n",
       "      <th>country_name</th>\n",
       "      <th>Medal_Won</th>\n",
       "    </tr>\n",
       "  </thead>\n",
       "  <tbody>\n",
       "    <tr>\n",
       "      <th>132</th>\n",
       "      <td>United States of America</td>\n",
       "      <td>2239</td>\n",
       "    </tr>\n",
       "    <tr>\n",
       "      <th>100</th>\n",
       "      <td>Russia</td>\n",
       "      <td>1372</td>\n",
       "    </tr>\n",
       "    <tr>\n",
       "      <th>42</th>\n",
       "      <td>Germany</td>\n",
       "      <td>1185</td>\n",
       "    </tr>\n",
       "    <tr>\n",
       "      <th>39</th>\n",
       "      <td>France</td>\n",
       "      <td>578</td>\n",
       "    </tr>\n",
       "    <tr>\n",
       "      <th>44</th>\n",
       "      <td>Great Britain</td>\n",
       "      <td>571</td>\n",
       "    </tr>\n",
       "  </tbody>\n",
       "</table>\n",
       "</div>"
      ],
      "text/plain": [
       "                 country_name  Medal_Won\n",
       "132  United States of America       2239\n",
       "100                    Russia       1372\n",
       "42                    Germany       1185\n",
       "39                     France        578\n",
       "44              Great Britain        571"
      ]
     },
     "execution_count": 171,
     "metadata": {},
     "output_type": "execute_result"
    }
   ],
   "source": [
    "identify_individual_events_agg = identify_individual_events.\\\n",
    "groupby(['country_name'])[['Medal_Won']].\\\n",
    "agg('sum').reset_index()\n",
    "\n",
    "identify_individual_events_agg_sorted = identify_individual_events_agg.sort_values(by='Medal_Won', ascending=False)\n",
    "\n",
    "identify_individual_events_agg_sorted.head(5)"
   ]
  },
  {
   "cell_type": "code",
   "execution_count": 172,
   "metadata": {},
   "outputs": [
    {
     "data": {
      "text/html": [
       "<div>\n",
       "<style scoped>\n",
       "    .dataframe tbody tr th:only-of-type {\n",
       "        vertical-align: middle;\n",
       "    }\n",
       "\n",
       "    .dataframe tbody tr th {\n",
       "        vertical-align: top;\n",
       "    }\n",
       "\n",
       "    .dataframe thead th {\n",
       "        text-align: right;\n",
       "    }\n",
       "</style>\n",
       "<table border=\"1\" class=\"dataframe\">\n",
       "  <thead>\n",
       "    <tr style=\"text-align: right;\">\n",
       "      <th></th>\n",
       "      <th>Country</th>\n",
       "      <th>medal_type</th>\n",
       "      <th>Medal_Won</th>\n",
       "    </tr>\n",
       "  </thead>\n",
       "  <tbody>\n",
       "    <tr>\n",
       "      <th>249</th>\n",
       "      <td>United States of America</td>\n",
       "      <td>GOLD</td>\n",
       "      <td>310</td>\n",
       "    </tr>\n",
       "    <tr>\n",
       "      <th>250</th>\n",
       "      <td>United States of America</td>\n",
       "      <td>SILVER</td>\n",
       "      <td>272</td>\n",
       "    </tr>\n",
       "    <tr>\n",
       "      <th>248</th>\n",
       "      <td>United States of America</td>\n",
       "      <td>BRONZE</td>\n",
       "      <td>250</td>\n",
       "    </tr>\n",
       "    <tr>\n",
       "      <th>176</th>\n",
       "      <td>People's Republic of China</td>\n",
       "      <td>GOLD</td>\n",
       "      <td>242</td>\n",
       "    </tr>\n",
       "    <tr>\n",
       "      <th>194</th>\n",
       "      <td>Russia</td>\n",
       "      <td>GOLD</td>\n",
       "      <td>213</td>\n",
       "    </tr>\n",
       "  </tbody>\n",
       "</table>\n",
       "</div>"
      ],
      "text/plain": [
       "                        Country medal_type  Medal_Won\n",
       "249    United States of America       GOLD        310\n",
       "250    United States of America     SILVER        272\n",
       "248    United States of America     BRONZE        250\n",
       "176  People's Republic of China       GOLD        242\n",
       "194                      Russia       GOLD        213"
      ]
     },
     "execution_count": 172,
     "metadata": {},
     "output_type": "execute_result"
    }
   ],
   "source": [
    "events_medal_agg = df_merged.\\\n",
    "groupby(['Country','medal_type'])[['Medal_Won']].\\\n",
    "agg('sum').reset_index()\n",
    "\n",
    "events_medal_agg_sorted = events_medal_agg.sort_values(by='Medal_Won', ascending=False)\n",
    "\n",
    "events_medal_agg_sorted.head(5)"
   ]
  },
  {
   "cell_type": "code",
   "execution_count": 159,
   "metadata": {},
   "outputs": [
    {
     "data": {
      "text/plain": [
       "Text(0, 0.5, 'Country')"
      ]
     },
     "execution_count": 159,
     "metadata": {},
     "output_type": "execute_result"
    },
    {
     "data": {
      "image/png": "[encoded data removed]",
      "text/plain": [
       "<Figure size 576x432 with 1 Axes>"
      ]
     },
     "metadata": {
      "needs_background": "light"
     },
     "output_type": "display_data"
    }
   ],
   "source": [
    "top_countries = ['United States of America', 'Germany', \"People's Republic of China\", 'Russia','Australia']\n",
    "\n",
    "# row mask where countries match\n",
    "\n",
    "row_mask_2 = df_merged['Country'].map(lambda x: x in top_countries)\n",
    "\n",
    "medal_tally_specific = pd.pivot_table(df_merged[row_mask_2],\n",
    "                                     index = ['Country'],\n",
    "                                     columns = 'medal_type',\n",
    "                                     values = 'Medal_Won',\n",
    "                                     aggfunc = 'sum',\n",
    "                                     fill_value = 0)\n",
    "\n",
    "medal_tally_specific = medal_tally_specific.loc[:, ['GOLD', 'SILVER', 'BRONZE']]\n",
    "\n",
    "medal_tally_specific.plot(kind = 'bar', stacked = True, figsize = (8,6), rot = 0 ,color = ['#DFB722', '#C0C0C0', '#b08d57']\n",
    "                         )\n",
    "xlabel('Number of Medals')\n",
    "ylabel('Country')"
   ]
  },
  {
   "cell_type": "code",
   "execution_count": 160,
   "metadata": {},
   "outputs": [
    {
     "data": {
      "text/html": [
       "<div>\n",
       "<style scoped>\n",
       "    .dataframe tbody tr th:only-of-type {\n",
       "        vertical-align: middle;\n",
       "    }\n",
       "\n",
       "    .dataframe tbody tr th {\n",
       "        vertical-align: top;\n",
       "    }\n",
       "\n",
       "    .dataframe thead th {\n",
       "        text-align: right;\n",
       "    }\n",
       "</style>\n",
       "<table border=\"1\" class=\"dataframe\">\n",
       "  <thead>\n",
       "    <tr style=\"text-align: right;\">\n",
       "      <th></th>\n",
       "      <th>Country</th>\n",
       "      <th>Year</th>\n",
       "      <th>Population</th>\n",
       "      <th>Medal_Won</th>\n",
       "    </tr>\n",
       "  </thead>\n",
       "  <tbody>\n",
       "    <tr>\n",
       "      <th>562</th>\n",
       "      <td>United States of America</td>\n",
       "      <td>2016</td>\n",
       "      <td>323015995</td>\n",
       "      <td>127</td>\n",
       "    </tr>\n",
       "    <tr>\n",
       "      <th>392</th>\n",
       "      <td>People's Republic of China</td>\n",
       "      <td>2008</td>\n",
       "      <td>1353569484</td>\n",
       "      <td>117</td>\n",
       "    </tr>\n",
       "    <tr>\n",
       "      <th>558</th>\n",
       "      <td>United States of America</td>\n",
       "      <td>2008</td>\n",
       "      <td>303486012</td>\n",
       "      <td>116</td>\n",
       "    </tr>\n",
       "    <tr>\n",
       "      <th>560</th>\n",
       "      <td>United States of America</td>\n",
       "      <td>2012</td>\n",
       "      <td>314043885</td>\n",
       "      <td>112</td>\n",
       "    </tr>\n",
       "    <tr>\n",
       "      <th>552</th>\n",
       "      <td>United States of America</td>\n",
       "      <td>1996</td>\n",
       "      <td>268335003</td>\n",
       "      <td>106</td>\n",
       "    </tr>\n",
       "  </tbody>\n",
       "</table>\n",
       "</div>"
      ],
      "text/plain": [
       "                        Country  Year  Population  Medal_Won\n",
       "562    United States of America  2016   323015995        127\n",
       "392  People's Republic of China  2008  1353569484        117\n",
       "558    United States of America  2008   303486012        116\n",
       "560    United States of America  2012   314043885        112\n",
       "552    United States of America  1996   268335003        106"
      ]
     },
     "execution_count": 160,
     "metadata": {},
     "output_type": "execute_result"
    }
   ],
   "source": [
    "events_medal_agg = df_merged.\\\n",
    "groupby(['Country','Year','Population'])[['Medal_Won']].\\\n",
    "agg('sum').reset_index()\n",
    "\n",
    "events_medal_agg_sorted = events_medal_agg.sort_values(by='Medal_Won', ascending=False)\n",
    "\n",
    "events_medal_agg_sorted.head(5)"
   ]
  }
 ],
 "metadata": {
  "anaconda-cloud": {},
  "kernelspec": {
   "display_name": "Python 3",
   "language": "python",
   "name": "python3"
  },
  "language_info": {
   "codemirror_mode": {
    "name": "ipython",
    "version": 3
   },
   "file_extension": ".py",
   "mimetype": "text/x-python",
   "name": "python",
   "nbconvert_exporter": "python",
   "pygments_lexer": "ipython3",
   "version": "3.8.8"
  }
 },
 "nbformat": 4,
 "nbformat_minor": 4
}
