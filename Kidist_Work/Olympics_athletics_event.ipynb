{
 "cells": [
  {
   "cell_type": "markdown",
   "metadata": {},
   "source": [
    "## Observations and Insights "
   ]
  },
  {
   "cell_type": "code",
   "execution_count": 2,
   "metadata": {},
   "outputs": [
    {
     "data": {
      "text/plain": [
       "0              barcelona\n",
       "1                 london\n",
       "2              antwerpen\n",
       "3                  paris\n",
       "4                calgary\n",
       "               ...      \n",
       "271111         innsbruck\n",
       "271112             sochi\n",
       "271113             sochi\n",
       "271114            nagano\n",
       "271115    salt lake city\n",
       "Name: City, Length: 271116, dtype: object"
      ]
     },
     "execution_count": 2,
     "metadata": {},
     "output_type": "execute_result"
    }
   ],
   "source": [
    "# Dependencies and Setup\n",
    "import matplotlib.pyplot as plt\n",
    "import pandas as pd\n",
    "from functools import reduce\n",
    "from scipy.stats import linregress\n",
    "import scipy.stats as st\n",
    "import numpy as np\n",
    "\n",
    "# Study data files\n",
    "athlete_events_path = \"data_set/athlete_events.csv\"\n",
    "olympic_medals_path = \"data_set/olympic_medals.csv\"\n",
    "Countrys_GDP_path = \"data_set/Country_wise_GDP_from_1994_to_2017.csv\"\n",
    "\n",
    "# Read the olympics data and the study results\n",
    "\n",
    "athlete_events = pd.read_csv(athlete_events_path)\n",
    "olympic_medals = pd.read_csv(olympic_medals_path)\n",
    "Countrys_GDP = pd.read_csv(Countrys_GDP_path)\n",
    "\n",
    "# Concatinate athletes name in olympic medals file to come up with full name that can be used to merge with athlete_events file \n",
    "City_str = []\n",
    "\n",
    "Full_Name = olympic_medals.athlete_name + \" \" + olympic_medals.athlete_surname\n",
    "olympic_medals['Full_Name'] = Full_Name.str.lower()\n",
    "\n",
    "olympic_medals[['City','Year','null']]= olympic_medals.slug_game.str.split(\"-\", n= 2 ,expand=True)\n",
    "olympic_medals.drop(['null'], axis=1, inplace=True)\n",
    "\n",
    "athlete_events_low = athlete_events['City'] = athlete_events['City'].str.lower()\n",
    "\n",
    "#athlete_events_df ['Year'] = athlete_events_low['Year'].astype(str)\n",
    "\n",
    "athlete_events_low"
   ]
  },
  {
   "cell_type": "code",
   "execution_count": null,
   "metadata": {},
   "outputs": [],
   "source": [
    "# Combine the data into a single dataset\n",
    "\n",
    "#events_medal_df = pd.merge(athlete_events, olympic_medals,on= ['City'], how='left')\n",
    "\n",
    "# Display the data table for preview\n",
    "\n",
    "#events_medal_df"
   ]
  },
  {
   "cell_type": "code",
   "execution_count": null,
   "metadata": {},
   "outputs": [],
   "source": [
    "olympic_medals.head()"
   ]
  },
  {
   "cell_type": "code",
   "execution_count": null,
   "metadata": {},
   "outputs": [],
   "source": [
    "athlete_events.head()"
   ]
  },
  {
   "cell_type": "code",
   "execution_count": null,
   "metadata": {},
   "outputs": [],
   "source": [
    "print (len(athlete_events.City.unique()))"
   ]
  },
  {
   "cell_type": "code",
   "execution_count": null,
   "metadata": {},
   "outputs": [],
   "source": [
    "print(len(olympic_medals.City.unique()))"
   ]
  },
  {
   "cell_type": "code",
   "execution_count": null,
   "metadata": {},
   "outputs": [],
   "source": [
    "athlete_events.info()"
   ]
  },
  {
   "cell_type": "code",
   "execution_count": null,
   "metadata": {},
   "outputs": [],
   "source": [
    "olympic_medals.info()"
   ]
  },
  {
   "cell_type": "code",
   "execution_count": null,
   "metadata": {},
   "outputs": [],
   "source": []
  }
 ],
 "metadata": {
  "anaconda-cloud": {},
  "kernelspec": {
   "display_name": "Python 3",
   "language": "python",
   "name": "python3"
  },
  "language_info": {
   "codemirror_mode": {
    "name": "ipython",
    "version": 3
   },
   "file_extension": ".py",
   "mimetype": "text/x-python",
   "name": "python",
   "nbconvert_exporter": "python",
   "pygments_lexer": "ipython3",
   "version": "3.8.8"
  }
 },
 "nbformat": 4,
 "nbformat_minor": 4
}
